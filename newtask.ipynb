{
 "cells": [
  {
   "cell_type": "markdown",
   "id": "1ad2e374",
   "metadata": {},
   "source": [
    "# new tasks"
   ]
  },
  {
   "cell_type": "markdown",
   "id": "65702c47",
   "metadata": {},
   "source": [
    "## exercise 1"
   ]
  },
  {
   "cell_type": "code",
   "execution_count": 2,
   "id": "eebba069",
   "metadata": {},
   "outputs": [
    {
     "name": "stdout",
     "output_type": "stream",
     "text": [
      "Please consider a random number between 1-99 in your mind...\n",
      "============================================================== \n",
      " I will try to guess the number you want....!\n",
      "==============================================================\n",
      "Is the number 27 your chosen number?\n",
      "y or n? n\n",
      "Is the number you are looking for bigger or smaller than the guessed number? (k= small and b= big) b\n",
      "Is the number 87 your chosen number?\n",
      "y or n? n\n",
      "Is the number you are looking for bigger or smaller than the guessed number? (k= small and b= big) k\n",
      "Is the number 54 your chosen number?\n",
      "y or n? n\n",
      "Is the number you are looking for bigger or smaller than the guessed number? (k= small and b= big) k\n",
      "Is the number 36 your chosen number?\n",
      "y or n? n\n",
      "Is the number you are looking for bigger or smaller than the guessed number? (k= small and b= big) k\n",
      "Is the number 27 your chosen number?\n",
      "y or n? n\n",
      "Is the number you are looking for bigger or smaller than the guessed number? (k= small and b= big) b\n",
      "Is the number 33 your chosen number?\n",
      "y or n? n\n",
      "Is the number you are looking for bigger or smaller than the guessed number? (k= small and b= big) k\n",
      "Is the number 32 your chosen number?\n",
      "y or n? y\n",
      "Well done to myself!\n"
     ]
    }
   ],
   "source": [
    "from numpy import random\n",
    "import sys\n",
    "\n",
    "print(\"Please consider a random number between 1-99 in your mind...\")\n",
    "print(\"==============================================================\",\"\\n\",\"I will try to guess the number you want....!\")\n",
    "print(\"==============================================================\")\n",
    "\n",
    "n=1\n",
    "numlst=[]\n",
    "low=1\n",
    "high=99\n",
    "x=random.randint(low,high,1)\n",
    "\n",
    "print(\"Is the number\",x[0],\"your chosen number?\")\n",
    "answer=input(\"y or n? \")\n",
    "\n",
    "if answer == \"y\":\n",
    "    \n",
    "    sys.exit(\"Well done to myself!\")\n",
    "    \n",
    "elif answer == \"n\":\n",
    "    \n",
    "    numlst.append(x)\n",
    "    \n",
    "    while n:\n",
    "        \n",
    "        bork=input(\"Is the number you are looking for bigger or smaller than the guessed number? (k= small and b= big) \")\n",
    "        \n",
    "        if bork == \"k\":\n",
    "            if x < high:\n",
    "                high=x\n",
    "                \n",
    "            x=random.randint(low,high,1)\n",
    "            print(\"Is the number\",x[0],\"your chosen number?\")\n",
    "            answer=input(\"y or n? \")\n",
    "            \n",
    "            if answer == \"y\":\n",
    "                print(\"Well done to myself!\")\n",
    "                break\n",
    "                \n",
    "            elif answer == \"n\":\n",
    "                numlst.insert(0,x)\n",
    "                continue\n",
    "                \n",
    "        elif bork == \"b\":\n",
    "            if x > low:\n",
    "                low=x\n",
    "                \n",
    "            x=random.randint(low,high,1)\n",
    "            print(\"Is the number\",x[0],\"your chosen number?\")\n",
    "            answer=input(\"y or n? \")\n",
    "            \n",
    "            if answer == \"y\":\n",
    "                print(\"Well done to myself!\")\n",
    "                break\n",
    "                \n",
    "            elif answer == \"n\":\n",
    "                numlst.insert(0,x)\n",
    "                continue"
   ]
  },
  {
   "cell_type": "markdown",
   "id": "0f11e3a3",
   "metadata": {},
   "source": [
    "## exercise 2"
   ]
  },
  {
   "cell_type": "code",
   "execution_count": 5,
   "id": "889bb4eb",
   "metadata": {},
   "outputs": [
    {
     "name": "stdout",
     "output_type": "stream",
     "text": [
      "Please enter age:55\n",
      "Please enter age:-5\n",
      "Invalid number! Please try again...\n",
      "Please enter age:0\n",
      "Invalid number! Please try again...\n",
      "Please enter age:66\n",
      "Please enter age:53\n",
      "Please enter age:45\n",
      "Please enter age:42\n",
      "Please enter age:24\n",
      "Please enter age:14\n",
      "Please enter age:13\n",
      "Please enter age:75\n",
      "Please enter age:83\n",
      "Please enter age:45\n",
      "Please enter age:96\n",
      "Please enter age:15\n",
      "Please enter age:3\n",
      "Please enter age:33\n",
      "Please enter age:-1\n",
      "=============================\n",
      "The highest age: 96\n"
     ]
    }
   ],
   "source": [
    "n=1\n",
    "\n",
    "age_lst=[]\n",
    "\n",
    "while n:\n",
    "    age=int(input(\"Please enter age:\"))\n",
    "    if age > 0:\n",
    "        age_lst.append(age)\n",
    "        \n",
    "    elif age == -1:\n",
    "        print(\"=============================\")\n",
    "        print(\"The highest age:\",max(age_lst))\n",
    "        break\n",
    "        \n",
    "    else :\n",
    "        print(\"Invalid number! Please try again...\")\n",
    "        continue\n",
    "    \n",
    "    "
   ]
  },
  {
   "cell_type": "markdown",
   "id": "769554bd",
   "metadata": {},
   "source": [
    "## exercise 3"
   ]
  },
  {
   "cell_type": "code",
   "execution_count": 13,
   "id": "0d146dd5",
   "metadata": {},
   "outputs": [
    {
     "name": "stdout",
     "output_type": "stream",
     "text": [
      "please enter your word/sentence: MAHDI\n",
      ".m.h.d\n"
     ]
    }
   ],
   "source": [
    "sen=(input(\"please enter your word/sentence: \"))\n",
    "\n",
    "sen=sen.lower()\n",
    "\n",
    "new_sen=\"\"\n",
    "\n",
    "vowels=['a','e','i','o','u']\n",
    "\n",
    "x=list(sen)\n",
    "\n",
    "\n",
    "for i in (x):\n",
    "    \n",
    "    if i not in vowels:\n",
    "        \n",
    "        new_sen=new_sen+\".\"+i\n",
    "        \n",
    "    else:\n",
    "        \n",
    "        continue\n",
    "        \n",
    "print(new_sen)"
   ]
  },
  {
   "cell_type": "code",
   "execution_count": 2,
   "id": "bb159c5f",
   "metadata": {},
   "outputs": [
    {
     "name": "stdout",
     "output_type": "stream",
     "text": [
      "Please enter a number: 15\n",
      "Please enter a number: 60\n",
      "Please enter a number: 45\n",
      "Please enter a number: 744\n",
      "Please enter a number: 788\n",
      "Please enter a number: 5322\n",
      "Please enter a number: 2254\n",
      "Please enter a number: 96\n",
      "Please enter a number: 54\n",
      "Please enter a number: 55\n",
      "Please enter a number: 3647\n",
      "Please enter a number: 556\n",
      "Please enter a number: 852\n",
      "Please enter a number: 123\n",
      "Please enter a number: 456\n",
      "Please enter a number: 789\n",
      "Please enter a number: 963\n",
      "Please enter a number: 741\n",
      "Please enter a number: 258\n",
      "Please enter a number: 369\n",
      "744 ====> 15\n",
      "456 ====> 15\n"
     ]
    }
   ],
   "source": [
    "lst_num=[]\n",
    "rpt_num=[]\n",
    "idx=[]\n",
    "n=20\n",
    "m=0\n",
    "k=0\n",
    "\n",
    "\n",
    "while n>0:\n",
    "    x=int(input(\"Please enter a number: \"))\n",
    "    lst_num.append(x)\n",
    "    n=n-1\n",
    "    \n",
    "\n",
    "\n",
    "\n",
    "for i in (lst_num):\n",
    "    \n",
    "    k=int(i)\n",
    "    \n",
    "    while k >= 0:\n",
    "        if k>1 :\n",
    "            f=(k-1)\n",
    "            dv=i%f\n",
    "            \n",
    "            if dv == 0:\n",
    "                m=m+1\n",
    "                k=k-1\n",
    "            else:\n",
    "                k=k-1\n",
    "                continue\n",
    "        else:\n",
    "            rpt_num.append(m)\n",
    "            m=0\n",
    "            break\n",
    "\n",
    "\n",
    "\n",
    "\n",
    "max_value=max(rpt_num)\n",
    "turn=0\n",
    "max_idx=[]\n",
    "\n",
    "for x in (rpt_num):\n",
    "    \n",
    "    if x == max_value:\n",
    "        max_idx.append(turn)\n",
    "        turn += 1\n",
    "        \n",
    "    else:\n",
    "        turn +=1\n",
    "        continue\n",
    "        \n",
    "for final in (max_idx):\n",
    "    print(lst_num[final],\"====>\",max_value)"
   ]
  },
  {
   "cell_type": "code",
   "execution_count": 15,
   "id": "89a6a4ad",
   "metadata": {},
   "outputs": [
    {
     "name": "stdout",
     "output_type": "stream",
     "text": [
      "left bede. oon to ro nemikhad\n"
     ]
    }
   ],
   "source": [
    "from numpy import random\n",
    "\n",
    "x= random.randint(1,6,1)\n",
    "\n",
    "if x==1:\n",
    "    print(\"left bede. Akharesh khoob nist bazam\")\n",
    "\n",
    "elif x==2:\n",
    "    print(\"bemoon barat khobe\")\n",
    "\n",
    "elif x==3:\n",
    "    print(\"left bede. oon to ro nemikhad\")\n",
    "\n",
    "elif x==4:\n",
    "    print(\"left bede. akhar sar ekhraj mishi\")\n",
    "\n",
    "else:\n",
    "    print(\"qoran\")\n"
   ]
  },
  {
   "cell_type": "code",
   "execution_count": null,
   "id": "f7b49e78",
   "metadata": {},
   "outputs": [],
   "source": []
  },
  {
   "cell_type": "code",
   "execution_count": null,
   "id": "118f5ce6",
   "metadata": {},
   "outputs": [],
   "source": []
  }
 ],
 "metadata": {
  "kernelspec": {
   "display_name": "Python 3 (ipykernel)",
   "language": "python",
   "name": "python3"
  },
  "language_info": {
   "codemirror_mode": {
    "name": "ipython",
    "version": 3
   },
   "file_extension": ".py",
   "mimetype": "text/x-python",
   "name": "python",
   "nbconvert_exporter": "python",
   "pygments_lexer": "ipython3",
   "version": "3.9.12"
  }
 },
 "nbformat": 4,
 "nbformat_minor": 5
}
