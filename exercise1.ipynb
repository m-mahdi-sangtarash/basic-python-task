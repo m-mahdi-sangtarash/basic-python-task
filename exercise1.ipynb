{
 "cells": [
  {
   "cell_type": "markdown",
   "id": "50356a41",
   "metadata": {},
   "source": [
    "# exercise 1\n",
    "### write a python to detect integer items in a list of string items, cast them into int and print/return them out."
   ]
  },
  {
   "cell_type": "code",
   "execution_count": 24,
   "id": "29be81f4",
   "metadata": {},
   "outputs": [
    {
     "name": "stdout",
     "output_type": "stream",
     "text": [
      "5\n",
      "10\n",
      "0\n"
     ]
    }
   ],
   "source": [
    "my_list = ['5','10','322k88','10.5','0']\n",
    "\n",
    "\n",
    "for x in (my_list):\n",
    "    try:\n",
    "        print(int(x))\n",
    "    except ValueError:\n",
    "        continue\n",
    "    "
   ]
  },
  {
   "cell_type": "markdown",
   "id": "f259786c",
   "metadata": {},
   "source": [
    "# exercise 2"
   ]
  },
  {
   "cell_type": "code",
   "execution_count": null,
   "id": "423ce0ca",
   "metadata": {},
   "outputs": [],
   "source": [
    "my_list = [386,462,47,418,907,344,236,375,823,566,597,978,328,615,953,345,399,162,758,219,918]\n",
    "\n",
    "\n",
    "for x in (my_list):\n",
    "    i=x%2\n",
    "    if i==0:\n",
    "        print(x)\n",
    "    else :\n",
    "        continue\n",
    "        "
   ]
  },
  {
   "cell_type": "markdown",
   "id": "a0f9ee7b",
   "metadata": {},
   "source": [
    "# exercise 3"
   ]
  },
  {
   "cell_type": "code",
   "execution_count": null,
   "id": "a66be683",
   "metadata": {},
   "outputs": [],
   "source": [
    "a=int(input(\"please enter a:\"))\n",
    "b=int(input(\"please enter b:\"))\n",
    "\n",
    "c=a+b\n",
    "if c>=15 and c<=20:\n",
    "    print(20)\n",
    "else:\n",
    "    print(c)\n"
   ]
  },
  {
   "cell_type": "markdown",
   "id": "5319563e",
   "metadata": {},
   "source": [
    "# exercise 4"
   ]
  },
  {
   "cell_type": "code",
   "execution_count": 25,
   "id": "3309bb34",
   "metadata": {},
   "outputs": [
    {
     "name": "stdout",
     "output_type": "stream",
     "text": [
      "3 >>> 2\n",
      "5 >>> 1\n",
      "mahdi >>> 2\n",
      "9 >>> 3\n",
      "8 >>> 3\n"
     ]
    }
   ],
   "source": [
    "my_list=['3','3','5','mahdi','9','mahdi','9','8','8','8','9']\n",
    "nlist=[]\n",
    "for x in (my_list):\n",
    "    if x not in nlist:\n",
    "        nlist.append(x)\n",
    "\n",
    "\n",
    "for x in (nlist):\n",
    "    b=0\n",
    "    for i in (my_list):\n",
    "        if i==x:\n",
    "            b=b+1\n",
    "    print(x,'>>>',b)    \n",
    "    \n"
   ]
  },
  {
   "cell_type": "code",
   "execution_count": null,
   "id": "da9d4618",
   "metadata": {},
   "outputs": [],
   "source": [
    "my_list=['3','3','5','mahdi','9','mahdi','9','8','8','8','9']\n",
    "nlist=[]\n",
    "for x in (my_list):\n",
    "    if x not in nlist:\n",
    "        nlist.append(x)\n",
    "\n",
    "\n",
    "for x in (nlist):\n",
    "    b=my_list.count(x)\n",
    "    \n",
    "    print(x,'>>>',b)    \n",
    "    \n"
   ]
  },
  {
   "cell_type": "markdown",
   "id": "573381f7",
   "metadata": {},
   "source": [
    "# exercise 5"
   ]
  },
  {
   "cell_type": "code",
   "execution_count": 1,
   "id": "85a6243b",
   "metadata": {},
   "outputs": [
    {
     "name": "stdout",
     "output_type": "stream",
     "text": [
      "please enter the quorum:5\n",
      "player a----> Please enter the desired element (from rock-paper-scissors):rock\n",
      "Player b----> Please enter the desired element (from rock-paper-scissors):paper\n",
      "user B won this round! result= 0 -- 1\n",
      "player a----> Please enter the desired element (from rock-paper-scissors):scissors\n",
      "Player b----> Please enter the desired element (from rock-paper-scissors):rock\n",
      "user B won this round! result= 0 -- 2\n",
      "player a----> Please enter the desired element (from rock-paper-scissors):paper\n",
      "Player b----> Please enter the desired element (from rock-paper-scissors):rock\n",
      "user A won this round! result= 1 -- 2\n",
      "player a----> Please enter the desired element (from rock-paper-scissors):paper\n",
      "Player b----> Please enter the desired element (from rock-paper-scissors):paper\n",
      "equal!\n",
      "player a----> Please enter the desired element (from rock-paper-scissors):rock\n",
      "Player b----> Please enter the desired element (from rock-paper-scissors):paper\n",
      "user B won this round! result= 1 -- 3\n",
      "player a----> Please enter the desired element (from rock-paper-scissors):paper\n",
      "Player b----> Please enter the desired element (from rock-paper-scissors):scissors\n",
      "user B won this round! result= 1 -- 4\n",
      "player a----> Please enter the desired element (from rock-paper-scissors):rock\n",
      "Player b----> Please enter the desired element (from rock-paper-scissors):paper\n",
      "user B won this round! result= 1 -- 5\n",
      "user B win the match! result= 1 -- 5 \n",
      " Goodbye...!\n"
     ]
    }
   ],
   "source": [
    "el={\"rock\":1,\"paper\":2,\"scissors\":3}\n",
    "\n",
    "quorum=int(input(\"please enter the quorum:\"))\n",
    "\n",
    "user_a_score=0\n",
    "user_b_score=0\n",
    "i=5\n",
    "\n",
    "while i:\n",
    "    \n",
    "    user_a=input(\"player a----> Please enter the desired element (from rock-paper-scissors):\")\n",
    "    \n",
    "    user_a=el[user_a]\n",
    "    \n",
    "    \n",
    "    user_b=input(\"Player b----> Please enter the desired element (from rock-paper-scissors):\")\n",
    "    \n",
    "    user_b=el[user_b]\n",
    "    \n",
    "\n",
    "    if user_a == user_b:\n",
    "\n",
    "        print(\"equal!\")\n",
    "\n",
    "# user B Won\n",
    "\n",
    "    if user_a == 1 and user_b ==2 or user_a == 3 and user_b == 1 or user_a == 2 and user_b == 3:\n",
    "\n",
    "        user_b_score=user_b_score+1\n",
    "        print(\"user B won this round!\", \"result=\",user_a_score,\"--\",user_b_score)\n",
    "\n",
    "# user A Won\n",
    "\n",
    "    if user_a == 2 and user_b == 1 or user_a == 1 and user_b == 3 or user_a == 3 and user_b == 2:\n",
    "\n",
    "        user_a_score=user_a_score+1\n",
    "        print(\"user A won this round!\", \"result=\",user_a_score,\"--\",user_b_score)\n",
    "    \n",
    "    if quorum==user_a_score or quorum == user_b_score:\n",
    "        \n",
    "        if user_a_score > user_b_score:\n",
    "        \n",
    "            print(\"user A win the match!\", \"result=\",user_a_score,\"--\",user_b_score,\"\\n\",\"Goodbye...!\")\n",
    "            break\n",
    "            \n",
    "        elif user_b_score > user_a_score:\n",
    "            \n",
    "            print(\"user B win the match!\",\"result=\",user_a_score,\"--\",user_b_score,\"\\n\",\"Goodbye...!\")\n",
    "            break\n",
    "    \n"
   ]
  },
  {
   "cell_type": "markdown",
   "id": "fb5cfa16",
   "metadata": {},
   "source": [
    "# excercise 6"
   ]
  },
  {
   "cell_type": "code",
   "execution_count": 23,
   "id": "0ad12eee",
   "metadata": {},
   "outputs": [
    {
     "name": "stdout",
     "output_type": "stream",
     "text": [
      "Please enter the number of sequence of numbers: 10\n",
      "1\n",
      "1\n",
      "3\n",
      "5\n",
      "8\n",
      "13\n",
      "21\n",
      "34\n",
      "55\n",
      "89\n"
     ]
    }
   ],
   "source": [
    "x=int(input(\"Please enter the number of sequence of numbers: \"))\n",
    "\n",
    "lstn=[1]\n",
    "\n",
    "for i in range (0,x,1):\n",
    "    \n",
    "    if len(lstn) == 1:\n",
    "        \n",
    "        print(lstn[i])\n",
    "        n=lstn[i]\n",
    "        print(n)\n",
    "        lstn.append(n)\n",
    "    \n",
    "    elif len(lstn) == 2:\n",
    "        \n",
    "        n=lstn[i]+lstn[i-1]\n",
    "        lstn.append(n)\n",
    "        \n",
    "    else:\n",
    "        \n",
    "        n=lstn[i]+lstn[i-1]\n",
    "        print(n)\n",
    "        lstn.append(n)"
   ]
  },
  {
   "cell_type": "markdown",
   "id": "1cb74043",
   "metadata": {},
   "source": [
    "# excercise 7"
   ]
  },
  {
   "cell_type": "code",
   "execution_count": 1,
   "id": "7c2b0751",
   "metadata": {},
   "outputs": [
    {
     "name": "stdout",
     "output_type": "stream",
     "text": [
      "please enter the password: My7&9kjn67@dN\n",
      "correct! Please wait to loging in...\n"
     ]
    }
   ],
   "source": [
    "de_pass= \"My7&9kjn67@dN\"\n",
    "\n",
    "i=3\n",
    "n=1\n",
    "\n",
    "while n:\n",
    "    en_pass=input(\"please enter the password: \")\n",
    "    if en_pass == de_pass:\n",
    "        print(\"correct! Please wait to loging in...\")\n",
    "        break\n",
    "        \n",
    "    else :\n",
    "        n=n+1\n",
    "        if n < 4:\n",
    "            print(\"incorret password! Please try again.\")\n",
    "            print(\"You only have\",4-n,\"more chances to enter the correct password!\")\n",
    "            continue\n",
    "            \n",
    "        else:\n",
    "            print(\"You have had 3 unsuccessful attempts. Your access has been blocked\")\n",
    "            break\n",
    "            \n"
   ]
  },
  {
   "cell_type": "code",
   "execution_count": null,
   "id": "cfa33f08",
   "metadata": {},
   "outputs": [
    {
     "name": "stdout",
     "output_type": "stream",
     "text": [
      "please enter the quorum:3\n",
      "player a----> Please enter the desired element (from rock-paper-scissors):rock\n",
      "Player b----> Please enter the desired element (from rock-paper-scissors):rock\n",
      "equal!\n",
      "player a----> Please enter the desired element (from rock-paper-scissors):paper\n",
      "Player b----> Please enter the desired element (from rock-paper-scissors):rock\n",
      "user A won this round! result= 1 -- 0\n",
      "player a----> Please enter the desired element (from rock-paper-scissors):rock\n",
      "Player b----> Please enter the desired element (from rock-paper-scissors):paper\n",
      "user B won this round! result= 1 -- 1\n"
     ]
    }
   ],
   "source": [
    "\n",
    "\n",
    "quorum=int(input(\"please enter the quorum:\"))\n",
    "\n",
    "user_a_score=0\n",
    "user_b_score=0\n",
    "i=5\n",
    "\n",
    "while i:\n",
    "    \n",
    "    user_a=input(\"player a----> Please enter the desired element (from rock-paper-scissors):\")\n",
    "    \n",
    "    \n",
    "    \n",
    "    \n",
    "    user_b=input(\"Player b----> Please enter the desired element (from rock-paper-scissors):\")\n",
    "    \n",
    "   \n",
    "    \n",
    "\n",
    "    if user_a == user_b:\n",
    "\n",
    "        print(\"equal!\")\n",
    "\n",
    "        \n",
    "        \n",
    "    # user A Won\n",
    "\n",
    "    if user_a == \"paper\" and user_b == \"rock\" or user_a == \"rock\" and user_b == \"scissors\" or user_a == \"scissors\" and user_b == \"paper\":\n",
    "\n",
    "        user_a_score=user_a_score+1\n",
    "        print(\"user A won this round!\", \"result=\",user_a_score,\"--\",user_b_score)\n",
    "        \n",
    "# user B Won\n",
    "\n",
    "    if user_a == \"rock\" and user_b == \"paper\" or user_a == \"scissors\" and user_b == \"rock\" or user_a == \"paper\" and user_b == \"scissors\":\n",
    "\n",
    "        user_b_score=user_b_score+1\n",
    "        print(\"user B won this round!\", \"result=\",user_a_score,\"--\",user_b_score)\n",
    "\n",
    "\n",
    "    \n",
    "    if quorum==user_a_score or quorum == user_b_score:\n",
    "        \n",
    "        if user_a_score > user_b_score:\n",
    "        \n",
    "            print(\"user A win the match!\", \"result=\",user_a_score,\"--\",user_b_score,\"\\n\",\"Goodbye...!\")\n",
    "            break\n",
    "            \n",
    "        elif user_b_score > user_a_score:\n",
    "            \n",
    "            print(\"user B win the match!\",\"result=\",user_a_score,\"--\",user_b_score,\"\\n\",\"Goodbye...!\")\n",
    "            break\n",
    "    \n"
   ]
  },
  {
   "cell_type": "code",
   "execution_count": null,
   "id": "aae4781d",
   "metadata": {},
   "outputs": [],
   "source": []
  }
 ],
 "metadata": {
  "kernelspec": {
   "display_name": "Python 3 (ipykernel)",
   "language": "python",
   "name": "python3"
  },
  "language_info": {
   "codemirror_mode": {
    "name": "ipython",
    "version": 3
   },
   "file_extension": ".py",
   "mimetype": "text/x-python",
   "name": "python",
   "nbconvert_exporter": "python",
   "pygments_lexer": "ipython3",
   "version": "3.9.12"
  }
 },
 "nbformat": 4,
 "nbformat_minor": 5
}
