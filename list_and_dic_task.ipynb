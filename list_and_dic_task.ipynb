{
 "cells": [
  {
   "cell_type": "markdown",
   "id": "b3fe73a2",
   "metadata": {},
   "source": [
    "# Task 1\n",
    "\n",
    "##### Extract values from a dictionary that their keys are present in a given list"
   ]
  },
  {
   "cell_type": "code",
   "execution_count": 4,
   "id": "e4282ceb",
   "metadata": {},
   "outputs": [
    {
     "name": "stdout",
     "output_type": "stream",
     "text": [
      "mohammad\n",
      "5000\n"
     ]
    }
   ],
   "source": [
    "person_dict = {\"name\":\"mohammad\", \"age\":40, \"job\":\"engineer\", \"salary\":5000}\n",
    "\n",
    "valid_keys = [\"name\", \"salary\"]\n",
    "\n",
    "key_lst = person_dict.keys()\n",
    "\n",
    "for item_check in valid_keys:\n",
    "    \n",
    "    print(person_dict[item_check])\n",
    "\n"
   ]
  },
  {
   "cell_type": "markdown",
   "id": "4ba454b4",
   "metadata": {},
   "source": [
    "# Task 2\n",
    "\n",
    "##### flatten a nested dictionary. If a key is already present in the result dict, add a suffix like \"_1\" to distinguish between keys with the same name."
   ]
  },
  {
   "cell_type": "code",
   "execution_count": 18,
   "id": "3ade3fc4",
   "metadata": {},
   "outputs": [
    {
     "data": {
      "text/plain": [
       "{'name_0': 'Sara',\n",
       " 'age_0': 28,\n",
       " 'salary_0': 2000,\n",
       " 'name_1': 'Sara',\n",
       " 'age_1': 18,\n",
       " 'salary_1': 1000,\n",
       " 'a': 'A',\n",
       " 'name_2': 'Omid',\n",
       " 'age_2': 20,\n",
       " 'salary_2': 1000,\n",
       " 'name_3': 'Amir',\n",
       " 'age_3': 28,\n",
       " 'salary_3': 2000,\n",
       " 'last_name': 'Mohammadi'}"
      ]
     },
     "execution_count": 18,
     "metadata": {},
     "output_type": "execute_result"
    }
   ],
   "source": [
    "student_data = {'id1':\n",
    "                    {'name': 'Sara',\n",
    "                     'age': 28,\n",
    "                     'salary': 2000\n",
    "                     },\n",
    "                'id2':\n",
    "                    {'name': 'Sara',\n",
    "                     'age': 18,\n",
    "                     'salary': 1000\n",
    "                     },\n",
    "                \"a\": \"A\",\n",
    "                'id3':\n",
    "                    {'name': 'Omid',\n",
    "                     \"age\": 20,\n",
    "                     'salary': 1000\n",
    "                     },\n",
    "                'id4': dict(name=\"Amir\", age=28, salary=2000),\n",
    "                \"last_name\": \"Mohammadi\",\n",
    "                }\n",
    "\n",
    "dic_1 = {'name_0': 'Sara', 'age_0': 28, 'salary_0': 2000, 'name_1': 'Sara', 'age_1': 18, 'salary_1': 1000, \"a\": \"A\", 'name_2': 'Omid', \"age_2\": 20, 'salary_2': 1000, 'name_3': 'Amir', 'age_3':28, 'salary_3':2000, 'last_name': 'Mohammadi'}\n",
    "\n",
    "dic_1"
   ]
  },
  {
   "cell_type": "markdown",
   "id": "6f52569e",
   "metadata": {},
   "source": [
    "# Task 3\n",
    "\n",
    "##### Write a Python program to drop items with None or empty values from a given dictionary"
   ]
  },
  {
   "cell_type": "code",
   "execution_count": 40,
   "id": "321dc8bc",
   "metadata": {},
   "outputs": [
    {
     "name": "stdout",
     "output_type": "stream",
     "text": [
      "c >>> None\n",
      "d >>> \n"
     ]
    }
   ],
   "source": [
    "sample_dict = {\"a\": \"A\", \"b\": \"B\", \"c\": None, \"d\": \"\"}\n",
    "\n",
    "key_sample = sample_dict.keys()\n",
    "value_sample = sample_dict.values()\n",
    "key_retyper = []\n",
    "\n",
    "for r in key_sample:\n",
    "    \n",
    "    key_retyper.append(r)\n",
    "    \n",
    "index_counter = 0\n",
    "\n",
    "for item_checking in value_sample:\n",
    "    \n",
    "    if item_checking == None :\n",
    "        \n",
    "        print(key_retyper[index_counter],\">>>\",item_checking)\n",
    "        index_counter += 1\n",
    "    \n",
    "    elif item_checking == \"\":\n",
    "        print(key_retyper[index_counter],\">>>\",item_checking)\n",
    "        index_counter += 1\n",
    "        \n",
    "    else:\n",
    "        \n",
    "        index_counter +=1\n",
    "        continue"
   ]
  },
  {
   "cell_type": "markdown",
   "id": "52b01ed3",
   "metadata": {},
   "source": [
    "# Task 4\n",
    "\n",
    "##### Create a dictionary two given lists using `zip`"
   ]
  },
  {
   "cell_type": "code",
   "execution_count": 6,
   "id": "de7c9b71",
   "metadata": {},
   "outputs": [
    {
     "data": {
      "text/plain": [
       "{'Iran': 'Tehran', 'Germany': 'Berlin', 'Italy': 'Rom'}"
      ]
     },
     "execution_count": 6,
     "metadata": {},
     "output_type": "execute_result"
    }
   ],
   "source": [
    "country_lst = [\"Iran\", \"Germany\", \"Italy\"]\n",
    "capital_lst = [\"Tehran\", \"Berlin\", \"Rom\"]\n",
    "\n",
    "cc_dict = dict(zip(country_lst, capital_lst))\n",
    "cc_dict"
   ]
  },
  {
   "cell_type": "code",
   "execution_count": null,
   "id": "ce46e804",
   "metadata": {},
   "outputs": [],
   "source": []
  }
 ],
 "metadata": {
  "kernelspec": {
   "display_name": "Python 3 (ipykernel)",
   "language": "python",
   "name": "python3"
  },
  "language_info": {
   "codemirror_mode": {
    "name": "ipython",
    "version": 3
   },
   "file_extension": ".py",
   "mimetype": "text/x-python",
   "name": "python",
   "nbconvert_exporter": "python",
   "pygments_lexer": "ipython3",
   "version": "3.9.12"
  }
 },
 "nbformat": 4,
 "nbformat_minor": 5
}
