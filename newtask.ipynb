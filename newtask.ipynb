{
 "cells": [
  {
   "cell_type": "markdown",
   "id": "1ad2e374",
   "metadata": {},
   "source": [
    "# new tasks"
   ]
  },
  {
   "cell_type": "markdown",
   "id": "65702c47",
   "metadata": {},
   "source": [
    "## exercise 1"
   ]
  },
  {
   "cell_type": "code",
   "execution_count": 2,
   "id": "eebba069",
   "metadata": {},
   "outputs": [
    {
     "name": "stdout",
     "output_type": "stream",
     "text": [
      "Please consider a random number between 1-99 in your mind...\n",
      "============================================================== \n",
      " I will try to guess the number you want....!\n",
      "==============================================================\n",
      "Is the number 27 your chosen number?\n",
      "y or n? n\n",
      "Is the number you are looking for bigger or smaller than the guessed number? (k= small and b= big) b\n",
      "Is the number 87 your chosen number?\n",
      "y or n? n\n",
      "Is the number you are looking for bigger or smaller than the guessed number? (k= small and b= big) k\n",
      "Is the number 54 your chosen number?\n",
      "y or n? n\n",
      "Is the number you are looking for bigger or smaller than the guessed number? (k= small and b= big) k\n",
      "Is the number 36 your chosen number?\n",
      "y or n? n\n",
      "Is the number you are looking for bigger or smaller than the guessed number? (k= small and b= big) k\n",
      "Is the number 27 your chosen number?\n",
      "y or n? n\n",
      "Is the number you are looking for bigger or smaller than the guessed number? (k= small and b= big) b\n",
      "Is the number 33 your chosen number?\n",
      "y or n? n\n",
      "Is the number you are looking for bigger or smaller than the guessed number? (k= small and b= big) k\n",
      "Is the number 32 your chosen number?\n",
      "y or n? y\n",
      "Well done to myself!\n"
     ]
    }
   ],
   "source": [
    "from numpy import random\n",
    "import sys\n",
    "\n",
    "print(\"Please consider a random number between 1-99 in your mind...\")\n",
    "print(\"==============================================================\",\"\\n\",\"I will try to guess the number you want....!\")\n",
    "print(\"==============================================================\")\n",
    "\n",
    "n=1\n",
    "numlst=[]\n",
    "low=1\n",
    "high=99\n",
    "x=random.randint(low,high,1)\n",
    "\n",
    "print(\"Is the number\",x[0],\"your chosen number?\")\n",
    "answer=input(\"y or n? \")\n",
    "\n",
    "if answer == \"y\":\n",
    "    \n",
    "    sys.exit(\"Well done to myself!\")\n",
    "    \n",
    "elif answer == \"n\":\n",
    "    \n",
    "    numlst.append(x)\n",
    "    \n",
    "    while n:\n",
    "        \n",
    "        bork=input(\"Is the number you are looking for bigger or smaller than the guessed number? (k= small and b= big) \")\n",
    "        \n",
    "        if bork == \"k\":\n",
    "            if x < high:\n",
    "                high=x\n",
    "                \n",
    "            x=random.randint(low,high,1)\n",
    "            print(\"Is the number\",x[0],\"your chosen number?\")\n",
    "            answer=input(\"y or n? \")\n",
    "            \n",
    "            if answer == \"y\":\n",
    "                print(\"Well done to myself!\")\n",
    "                break\n",
    "                \n",
    "            elif answer == \"n\":\n",
    "                numlst.insert(0,x)\n",
    "                continue\n",
    "                \n",
    "        elif bork == \"b\":\n",
    "            if x > low:\n",
    "                low=x\n",
    "                \n",
    "            x=random.randint(low,high,1)\n",
    "            print(\"Is the number\",x[0],\"your chosen number?\")\n",
    "            answer=input(\"y or n? \")\n",
    "            \n",
    "            if answer == \"y\":\n",
    "                print(\"Well done to myself!\")\n",
    "                break\n",
    "                \n",
    "            elif answer == \"n\":\n",
    "                numlst.insert(0,x)\n",
    "                continue"
   ]
  },
  {
   "cell_type": "markdown",
   "id": "0f11e3a3",
   "metadata": {},
   "source": [
    "## exercise 2"
   ]
  },
  {
   "cell_type": "code",
   "execution_count": 5,
   "id": "889bb4eb",
   "metadata": {},
   "outputs": [
    {
     "name": "stdout",
     "output_type": "stream",
     "text": [
      "Please enter age:55\n",
      "Please enter age:-5\n",
      "Invalid number! Please try again...\n",
      "Please enter age:0\n",
      "Invalid number! Please try again...\n",
      "Please enter age:66\n",
      "Please enter age:53\n",
      "Please enter age:45\n",
      "Please enter age:42\n",
      "Please enter age:24\n",
      "Please enter age:14\n",
      "Please enter age:13\n",
      "Please enter age:75\n",
      "Please enter age:83\n",
      "Please enter age:45\n",
      "Please enter age:96\n",
      "Please enter age:15\n",
      "Please enter age:3\n",
      "Please enter age:33\n",
      "Please enter age:-1\n",
      "=============================\n",
      "The highest age: 96\n"
     ]
    }
   ],
   "source": [
    "n=1\n",
    "\n",
    "age_lst=[]\n",
    "\n",
    "while n:\n",
    "    age=int(input(\"Please enter age:\"))\n",
    "    if age > 0:\n",
    "        age_lst.append(age)\n",
    "        \n",
    "    elif age == -1:\n",
    "        print(\"=============================\")\n",
    "        print(\"The highest age:\",max(age_lst))\n",
    "        break\n",
    "        \n",
    "    else :\n",
    "        print(\"Invalid number! Please try again...\")\n",
    "        continue\n",
    "    \n",
    "    "
   ]
  },
  {
   "cell_type": "markdown",
   "id": "769554bd",
   "metadata": {},
   "source": [
    "## exercise 3"
   ]
  },
  {
   "cell_type": "code",
   "execution_count": 13,
   "id": "0d146dd5",
   "metadata": {},
   "outputs": [
    {
     "name": "stdout",
     "output_type": "stream",
     "text": [
      "please enter your word/sentence: MAHDI\n",
      ".m.h.d\n"
     ]
    }
   ],
   "source": [
    "sen=(input(\"please enter your word/sentence: \"))\n",
    "\n",
    "sen=sen.lower()\n",
    "\n",
    "new_sen=\"\"\n",
    "\n",
    "vowels=['a','e','i','o','u']\n",
    "\n",
    "x=list(sen)\n",
    "\n",
    "\n",
    "for i in (x):\n",
    "    \n",
    "    if i not in vowels:\n",
    "        \n",
    "        new_sen=new_sen+\".\"+i\n",
    "        \n",
    "    else:\n",
    "        \n",
    "        continue\n",
    "        \n",
    "print(new_sen)"
   ]
  },
  {
   "cell_type": "code",
   "execution_count": 9,
   "id": "bb159c5f",
   "metadata": {},
   "outputs": [
    {
     "name": "stdout",
     "output_type": "stream",
     "text": [
      "Please enter a number: 14\n",
      "Please enter a number: 17\n",
      "Please enter a number: 18\n",
      "Please enter a number: 56\n",
      "Please enter a number: 96\n"
     ]
    },
    {
     "ename": "TypeError",
     "evalue": "unhashable type: 'list'",
     "output_type": "error",
     "traceback": [
      "\u001b[1;31m---------------------------------------------------------------------------\u001b[0m",
      "\u001b[1;31mTypeError\u001b[0m                                 Traceback (most recent call last)",
      "Input \u001b[1;32mIn [9]\u001b[0m, in \u001b[0;36m<cell line: 12>\u001b[1;34m()\u001b[0m\n\u001b[0;32m      9\u001b[0m     lst_num\u001b[38;5;241m.\u001b[39mappend(\u001b[38;5;124m\"\u001b[39m\u001b[38;5;124m0\u001b[39m\u001b[38;5;124m\"\u001b[39m)\n\u001b[0;32m     10\u001b[0m     n\u001b[38;5;241m=\u001b[39mn\u001b[38;5;241m-\u001b[39m\u001b[38;5;241m1\u001b[39m\n\u001b[1;32m---> 12\u001b[0m \u001b[38;5;28mdict\u001b[39m\u001b[38;5;241m.\u001b[39mupdate({lst_num})\n\u001b[0;32m     14\u001b[0m \u001b[38;5;28;01mfor\u001b[39;00m i \u001b[38;5;129;01min\u001b[39;00m (lst_num):\n\u001b[0;32m     15\u001b[0m     k\u001b[38;5;241m=\u001b[39mi\n",
      "\u001b[1;31mTypeError\u001b[0m: unhashable type: 'list'"
     ]
    }
   ],
   "source": [
    "lst_num=[]\n",
    "dic_num={}\n",
    "n=5\n",
    "m=0\n",
    "k=0\n",
    "while n>0:\n",
    "    x=int(input(\"Please enter a number: \"))\n",
    "    lst_num.append(x)\n",
    "    lst_num.append(\"0\")\n",
    "    n=n-1\n",
    "\n",
    "dict.update({lst_num})\n",
    "\n",
    "for i in (lst_num):\n",
    "    k=i\n",
    "    while k>=0:\n",
    "        if k>0:\n",
    "            divisor=k%(k-1)\n",
    "            if divisior == 0:\n",
    "                m=m+1\n",
    "        else:\n",
    "            dic_num[i]=m\n",
    "            m=0\n",
    "\n",
    "\n",
    "print(dic_num)\n",
    "\n",
    "turn=dic_num.keys()\n",
    "\n",
    "max_value=max(turn)\n",
    "print(max_value)\n",
    "        \n",
    "\n",
    "    "
   ]
  },
  {
   "cell_type": "code",
   "execution_count": null,
   "id": "89a6a4ad",
   "metadata": {},
   "outputs": [],
   "source": []
  }
 ],
 "metadata": {
  "kernelspec": {
   "display_name": "Python 3 (ipykernel)",
   "language": "python",
   "name": "python3"
  },
  "language_info": {
   "codemirror_mode": {
    "name": "ipython",
    "version": 3
   },
   "file_extension": ".py",
   "mimetype": "text/x-python",
   "name": "python",
   "nbconvert_exporter": "python",
   "pygments_lexer": "ipython3",
   "version": "3.9.12"
  }
 },
 "nbformat": 4,
 "nbformat_minor": 5
}
